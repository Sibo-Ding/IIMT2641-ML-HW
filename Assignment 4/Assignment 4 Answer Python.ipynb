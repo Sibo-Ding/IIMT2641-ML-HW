{
 "cells": [
  {
   "cell_type": "markdown",
   "id": "078b087e",
   "metadata": {},
   "source": [
    "# IIMT2641 Assignment 4\n",
    "## Sibo Ding\n",
    "## Spring 2023"
   ]
  },
  {
   "cell_type": "code",
   "execution_count": 1,
   "id": "6554e9c1",
   "metadata": {},
   "outputs": [],
   "source": [
    "import pandas as pd\n",
    "import statsmodels.api as sm"
   ]
  },
  {
   "cell_type": "markdown",
   "id": "a6332f0b",
   "metadata": {},
   "source": [
    "## Load the Data"
   ]
  },
  {
   "cell_type": "code",
   "execution_count": 2,
   "id": "f95f705d",
   "metadata": {},
   "outputs": [
    {
     "name": "stdout",
     "output_type": "stream",
     "text": [
      "First 5 rows:\n",
      "    CreditPolicy  Purpose.CC  Purpose.DC  Purpose.Edu  Purpose.MP  Purpose.SB  \\\n",
      "0             1           0           1            0           0           0   \n",
      "1             1           1           0            0           0           0   \n",
      "2             1           0           1            0           0           0   \n",
      "3             1           0           1            0           0           0   \n",
      "4             1           1           0            0           0           0   \n",
      "\n",
      "   IntRate  Installment  LogAnnualInc    Dti  Fico  DaysWithCrLine  RevolBal  \\\n",
      "0   0.1189       829.10     11.350407  19.48   737     5639.958333     28854   \n",
      "1   0.1071       228.22     11.082143  14.29   707     2760.000000     33623   \n",
      "2   0.1357       366.86     10.373491  11.63   682     4710.000000      3511   \n",
      "3   0.1008       162.34     11.350407   8.10   712     2699.958333     33667   \n",
      "4   0.1426       102.92     11.299732  14.97   667     4066.000000      4740   \n",
      "\n",
      "   RevolUtil  InqLast6mths  Delinq2yrs  PubRec  NotFullyPaid  \n",
      "0       52.1             0           0       0             0  \n",
      "1       76.7             0           0       0             0  \n",
      "2       25.6             1           0       0             0  \n",
      "3       73.2             1           0       0             0  \n",
      "4       39.5             0           1       0             0  \n",
      "\n",
      "Number of observations and variables: (9578, 18)\n",
      "\n",
      "Names of variables: Index(['CreditPolicy', 'Purpose.CC', 'Purpose.DC', 'Purpose.Edu', 'Purpose.MP',\n",
      "       'Purpose.SB', 'IntRate', 'Installment', 'LogAnnualInc', 'Dti', 'Fico',\n",
      "       'DaysWithCrLine', 'RevolBal', 'RevolUtil', 'InqLast6mths', 'Delinq2yrs',\n",
      "       'PubRec', 'NotFullyPaid'],\n",
      "      dtype='object')\n"
     ]
    }
   ],
   "source": [
    "loans = pd.read_csv(\"Loans.csv\")\n",
    "print('First 5 rows:\\n', loans.head())\n",
    "print('\\nNumber of observations and variables:', loans.shape)\n",
    "print('\\nNames of variables:', loans.columns)\n",
    "\n",
    "# Change to the categorical/factor variable\n",
    "loans['NotFullyPaid'] = loans['NotFullyPaid'].astype('category')"
   ]
  },
  {
   "cell_type": "markdown",
   "id": "185396df",
   "metadata": {},
   "source": [
    "## Train-test Split"
   ]
  },
  {
   "cell_type": "code",
   "execution_count": 3,
   "id": "2a7d62c0",
   "metadata": {},
   "outputs": [
    {
     "name": "stdout",
     "output_type": "stream",
     "text": [
      "Length of training set: 6704\n",
      "Length of test set: 2874\n"
     ]
    }
   ],
   "source": [
    "# Randomly split the dataset with 70% in the training set\n",
    "from sklearn.model_selection import train_test_split\n",
    "\n",
    "x = loans[['CreditPolicy', 'Purpose.CC', 'Purpose.DC', 'Purpose.Edu', 'Purpose.MP',\n",
    "       'Purpose.SB', 'IntRate', 'Installment', 'LogAnnualInc', 'Dti', 'Fico',\n",
    "       'DaysWithCrLine', 'RevolBal', 'RevolUtil', 'InqLast6mths', 'Delinq2yrs',\n",
    "       'PubRec']]\n",
    "y = loans['NotFullyPaid']\n",
    "x_train, x_test, y_train, y_test = train_test_split(x, y, test_size=0.3, random_state=12)\n",
    "print(f'Length of training set:', len(y_train))\n",
    "print(f'Length of test set:', len(y_test))"
   ]
  },
  {
   "cell_type": "markdown",
   "id": "8b592f60",
   "metadata": {},
   "source": [
    "## Baseline Model Accuracy"
   ]
  },
  {
   "cell_type": "code",
   "execution_count": 4,
   "id": "a84318e6",
   "metadata": {},
   "outputs": [
    {
     "data": {
      "text/plain": [
       "0.8302018093249826"
      ]
     },
     "execution_count": 4,
     "metadata": {},
     "output_type": "execute_result"
    }
   ],
   "source": [
    "len(y_test[y_test == 0]) / len(y_test)"
   ]
  },
  {
   "cell_type": "markdown",
   "id": "418496db",
   "metadata": {},
   "source": [
    "## Logistic Regression"
   ]
  },
  {
   "cell_type": "code",
   "execution_count": 5,
   "id": "6e32890b",
   "metadata": {},
   "outputs": [
    {
     "name": "stdout",
     "output_type": "stream",
     "text": [
      "Optimization terminated successfully.\n",
      "         Current function value: 0.403446\n",
      "         Iterations 7\n",
      "                           Logit Regression Results                           \n",
      "==============================================================================\n",
      "Dep. Variable:           NotFullyPaid   No. Observations:                 6704\n",
      "Model:                          Logit   Df Residuals:                     6686\n",
      "Method:                           MLE   Df Model:                           17\n",
      "Date:                Wed, 12 Apr 2023   Pseudo R-squ.:                 0.06776\n",
      "Time:                        22:22:41   Log-Likelihood:                -2704.7\n",
      "converged:                       True   LL-Null:                       -2901.3\n",
      "Covariance Type:            nonrobust   LLR p-value:                 4.969e-73\n",
      "==================================================================================\n",
      "                     coef    std err          z      P>|z|      [0.025      0.975]\n",
      "----------------------------------------------------------------------------------\n",
      "const              9.7875      1.578      6.201      0.000       6.694      12.881\n",
      "CreditPolicy      -0.2944      0.103     -2.865      0.004      -0.496      -0.093\n",
      "Purpose.CC        -0.5603      0.127     -4.415      0.000      -0.809      -0.312\n",
      "Purpose.DC        -0.3878      0.088     -4.418      0.000      -0.560      -0.216\n",
      "Purpose.Edu        0.0367      0.182      0.202      0.840      -0.320       0.393\n",
      "Purpose.MP        -0.3508      0.191     -1.841      0.066      -0.724       0.023\n",
      "Purpose.SB         0.4274      0.139      3.081      0.002       0.155       0.699\n",
      "IntRate            0.1758      2.115      0.083      0.934      -3.970       4.322\n",
      "Installment        0.0013      0.000      5.878      0.000       0.001       0.002\n",
      "LogAnnualInc      -0.4601      0.073     -6.344      0.000      -0.602      -0.318\n",
      "Dti               -0.0006      0.006     -0.112      0.911      -0.011       0.010\n",
      "Fico              -0.0099      0.002     -5.689      0.000      -0.013      -0.006\n",
      "DaysWithCrLine  2.813e-05    1.6e-05      1.761      0.078   -3.18e-06    5.94e-05\n",
      "RevolBal        3.993e-06   1.19e-06      3.350      0.001    1.66e-06    6.33e-06\n",
      "RevolUtil          0.0026      0.002      1.650      0.099      -0.000       0.006\n",
      "InqLast6mths       0.0961      0.017      5.789      0.000       0.064       0.129\n",
      "Delinq2yrs        -0.1072      0.071     -1.514      0.130      -0.246       0.032\n",
      "PubRec             0.2364      0.115      2.052      0.040       0.011       0.462\n",
      "==================================================================================\n"
     ]
    }
   ],
   "source": [
    "x = sm.add_constant(x_train)\n",
    "model1 = sm.Logit(y_train, x).fit()\n",
    "print(model1.summary())"
   ]
  },
  {
   "cell_type": "code",
   "execution_count": 6,
   "id": "1ca07ae5",
   "metadata": {},
   "outputs": [
    {
     "data": {
      "text/plain": [
       "const           9.787485\n",
       "CreditPolicy   -0.294438\n",
       "Purpose.CC     -0.560265\n",
       "Purpose.DC     -0.387778\n",
       "Purpose.SB      0.427391\n",
       "Installment     0.001255\n",
       "LogAnnualInc   -0.460106\n",
       "Fico           -0.009860\n",
       "RevolBal        0.000004\n",
       "InqLast6mths    0.096129\n",
       "PubRec          0.236448\n",
       "dtype: float64"
      ]
     },
     "execution_count": 6,
     "metadata": {},
     "output_type": "execute_result"
    }
   ],
   "source": [
    "# Significant independent variables (with p < 0.05)\n",
    "# Note: `const` is not an independent variable\n",
    "model1.params[model1.pvalues < 0.05]"
   ]
  },
  {
   "cell_type": "markdown",
   "id": "8d37654d",
   "metadata": {},
   "source": [
    "## Differences between Two Logits"
   ]
  },
  {
   "cell_type": "code",
   "execution_count": 7,
   "id": "25598813",
   "metadata": {},
   "outputs": [
    {
     "data": {
      "text/plain": [
       "0.09859609729070407"
      ]
     },
     "execution_count": 7,
     "metadata": {},
     "output_type": "execute_result"
    }
   ],
   "source": [
    "coef_fico = model1.params['Fico']\n",
    "coef_fico * (700 - 710)"
   ]
  },
  {
   "cell_type": "markdown",
   "id": "6ba12521",
   "metadata": {},
   "source": [
    "## Predict the Test Set"
   ]
  },
  {
   "cell_type": "code",
   "execution_count": 8,
   "id": "81e267d5",
   "metadata": {},
   "outputs": [
    {
     "data": {
      "text/plain": [
       "array([[2371,   15],\n",
       "       [ 473,   15]], dtype=int64)"
      ]
     },
     "execution_count": 8,
     "metadata": {},
     "output_type": "execute_result"
    }
   ],
   "source": [
    "x = sm.add_constant(x_test)\n",
    "predict_test1 = model1.predict(x)\n",
    "\n",
    "# Confusion matrix for out-of-sample prediction at threshold value 0.5\n",
    "from sklearn.metrics import confusion_matrix, accuracy_score\n",
    "\n",
    "threshold = 0.5\n",
    "predict_class1 = (predict_test1 > threshold).astype(int)\n",
    "confusion_matrix(y_test, predict_class1)"
   ]
  },
  {
   "cell_type": "code",
   "execution_count": 9,
   "id": "e920fd71",
   "metadata": {},
   "outputs": [
    {
     "data": {
      "text/plain": [
       "0.8302018093249826"
      ]
     },
     "execution_count": 9,
     "metadata": {},
     "output_type": "execute_result"
    }
   ],
   "source": [
    "# Accuracy\n",
    "accuracy_score(y_test, predict_class1)"
   ]
  },
  {
   "cell_type": "code",
   "execution_count": 10,
   "id": "d6d0612b",
   "metadata": {},
   "outputs": [
    {
     "data": {
      "text/plain": [
       "0.8302018093249826"
      ]
     },
     "execution_count": 10,
     "metadata": {},
     "output_type": "execute_result"
    }
   ],
   "source": [
    "# Baseline Model Accuracy\n",
    "len(y_test[y_test == 0]) / len(y_test)"
   ]
  },
  {
   "cell_type": "markdown",
   "id": "716d732c",
   "metadata": {},
   "source": [
    "The logistic regression model is same accurate as the baseline model."
   ]
  },
  {
   "cell_type": "markdown",
   "id": "7a19086b",
   "metadata": {},
   "source": [
    "## Logistic Regression Using `IntRate`"
   ]
  },
  {
   "cell_type": "code",
   "execution_count": 11,
   "id": "b3d04eb6",
   "metadata": {},
   "outputs": [
    {
     "name": "stdout",
     "output_type": "stream",
     "text": [
      "Optimization terminated successfully.\n",
      "         Current function value: 0.421564\n",
      "         Iterations 6\n",
      "                           Logit Regression Results                           \n",
      "==============================================================================\n",
      "Dep. Variable:           NotFullyPaid   No. Observations:                 6704\n",
      "Model:                          Logit   Df Residuals:                     6702\n",
      "Method:                           MLE   Df Model:                            1\n",
      "Date:                Wed, 12 Apr 2023   Pseudo R-squ.:                 0.02589\n",
      "Time:                        22:22:42   Log-Likelihood:                -2826.2\n",
      "converged:                       True   LL-Null:                       -2901.3\n",
      "Covariance Type:            nonrobust   LLR p-value:                 1.534e-34\n",
      "==============================================================================\n",
      "                 coef    std err          z      P>|z|      [0.025      0.975]\n",
      "------------------------------------------------------------------------------\n",
      "const         -3.6464      0.170    -21.475      0.000      -3.979      -3.314\n",
      "IntRate       15.5286      1.283     12.102      0.000      13.014      18.044\n",
      "==============================================================================\n"
     ]
    }
   ],
   "source": [
    "x = sm.add_constant(x_train['IntRate'])\n",
    "model2 = sm.Logit(y_train, x).fit()\n",
    "print(model2.summary())"
   ]
  },
  {
   "cell_type": "markdown",
   "id": "8e05c1bc",
   "metadata": {},
   "source": [
    "`IntRate` is significant in this model at 0.1%. It is not significant in the first model at 5%.  \n",
    "This difference may be because some information in the second model is explained by other independent variables in the first model."
   ]
  },
  {
   "cell_type": "markdown",
   "id": "2372dd05",
   "metadata": {},
   "source": [
    "## Predict the Test Set"
   ]
  },
  {
   "cell_type": "code",
   "execution_count": 12,
   "id": "99d74acc",
   "metadata": {},
   "outputs": [
    {
     "data": {
      "text/plain": [
       "0.4127090431130393"
      ]
     },
     "execution_count": 12,
     "metadata": {},
     "output_type": "execute_result"
    }
   ],
   "source": [
    "x = sm.add_constant(x_test['IntRate'])\n",
    "predict_test2 = model2.predict(x)\n",
    "\n",
    "# Highest predicted probability\n",
    "predict_test2.max()"
   ]
  },
  {
   "cell_type": "code",
   "execution_count": 13,
   "id": "94a0e8de",
   "metadata": {},
   "outputs": [
    {
     "data": {
      "text/plain": [
       "0"
      ]
     },
     "execution_count": 13,
     "metadata": {},
     "output_type": "execute_result"
    }
   ],
   "source": [
    "# No. of loans would not be paid back in full\n",
    "predict_test2[predict_test2 > 0.5].count()"
   ]
  }
 ],
 "metadata": {
  "kernelspec": {
   "display_name": "Python 3 (ipykernel)",
   "language": "python",
   "name": "python3"
  },
  "language_info": {
   "codemirror_mode": {
    "name": "ipython",
    "version": 3
   },
   "file_extension": ".py",
   "mimetype": "text/x-python",
   "name": "python",
   "nbconvert_exporter": "python",
   "pygments_lexer": "ipython3",
   "version": "3.9.12"
  }
 },
 "nbformat": 4,
 "nbformat_minor": 5
}
