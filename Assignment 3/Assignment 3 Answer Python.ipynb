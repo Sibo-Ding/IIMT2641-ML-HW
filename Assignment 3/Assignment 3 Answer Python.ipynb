{
 "cells": [
  {
   "cell_type": "markdown",
   "id": "4326b2a3",
   "metadata": {},
   "source": [
    "# IIMT2641 Assignment 3\n",
    "## Sibo Ding\n",
    "## Spring 2023"
   ]
  },
  {
   "cell_type": "markdown",
   "id": "8208bae4",
   "metadata": {},
   "source": [
    "## Environmental Setup"
   ]
  },
  {
   "cell_type": "code",
   "execution_count": 1,
   "id": "b9db4c3d",
   "metadata": {},
   "outputs": [],
   "source": [
    "import pandas as pd\n",
    "import statsmodels.api as sm"
   ]
  },
  {
   "cell_type": "markdown",
   "id": "bef01e12",
   "metadata": {},
   "source": [
    "## Load the Data"
   ]
  },
  {
   "cell_type": "code",
   "execution_count": 2,
   "id": "b40bedc6",
   "metadata": {},
   "outputs": [
    {
     "name": "stdout",
     "output_type": "stream",
     "text": [
      "First 5 rows:\n",
      "    Year  Month    MEI     CO2      CH4      N2O   CFC.11   CFC.12        TSI  \\\n",
      "0  1983      5  2.556  345.96  1638.59  303.677  191.324  350.113  1366.1024   \n",
      "1  1983      6  2.167  345.52  1633.71  303.746  192.057  351.848  1366.1208   \n",
      "2  1983      7  1.741  344.15  1633.22  303.795  192.818  353.725  1366.2850   \n",
      "3  1983      8  1.130  342.25  1631.35  303.839  193.602  355.633  1366.4202   \n",
      "4  1983      9  0.428  340.17  1648.40  303.901  194.392  357.465  1366.2335   \n",
      "\n",
      "   Aerosols   Temp  \n",
      "0    0.0863  0.109  \n",
      "1    0.0794  0.118  \n",
      "2    0.0731  0.137  \n",
      "3    0.0673  0.176  \n",
      "4    0.0619  0.149  \n",
      "\n",
      "Number of observations and variables: (308, 11)\n",
      "\n",
      "Names of variables: Index(['Year', 'Month', 'MEI', 'CO2', 'CH4', 'N2O', 'CFC.11', 'CFC.12', 'TSI',\n",
      "       'Aerosols', 'Temp'],\n",
      "      dtype='object')\n"
     ]
    }
   ],
   "source": [
    "climate_change = pd.read_csv(\"ClimateChange.csv\")\n",
    "print('First 5 rows:\\n', climate_change.head())\n",
    "print('\\nNumber of observations and variables:', climate_change.shape)\n",
    "print('\\nNames of variables:', climate_change.columns)"
   ]
  },
  {
   "cell_type": "markdown",
   "id": "4ed78ace",
   "metadata": {},
   "source": [
    "## Train-test Split"
   ]
  },
  {
   "cell_type": "code",
   "execution_count": 3,
   "id": "8bc42cde",
   "metadata": {},
   "outputs": [],
   "source": [
    "climate_train = climate_change[climate_change['Year'] <= 2006]\n",
    "climate_test = climate_change[climate_change['Year'] > 2006]"
   ]
  },
  {
   "cell_type": "markdown",
   "id": "4a0d251d",
   "metadata": {},
   "source": [
    "## Build Linear Regression Model"
   ]
  },
  {
   "cell_type": "code",
   "execution_count": 4,
   "id": "e02e2d44",
   "metadata": {},
   "outputs": [
    {
     "name": "stdout",
     "output_type": "stream",
     "text": [
      "                            OLS Regression Results                            \n",
      "==============================================================================\n",
      "Dep. Variable:                   Temp   R-squared:                       0.751\n",
      "Model:                            OLS   Adj. R-squared:                  0.744\n",
      "Method:                 Least Squares   F-statistic:                     103.6\n",
      "Date:                Wed, 12 Apr 2023   Prob (F-statistic):           1.94e-78\n",
      "Time:                        22:21:49   Log-Likelihood:                 280.10\n",
      "No. Observations:                 284   AIC:                            -542.2\n",
      "Df Residuals:                     275   BIC:                            -509.4\n",
      "Df Model:                           8                                         \n",
      "Covariance Type:            nonrobust                                         \n",
      "==============================================================================\n",
      "                 coef    std err          t      P>|t|      [0.025      0.975]\n",
      "------------------------------------------------------------------------------\n",
      "const       -124.5943     19.887     -6.265      0.000    -163.744     -85.445\n",
      "MEI            0.0642      0.006      9.923      0.000       0.051       0.077\n",
      "CO2            0.0065      0.002      2.826      0.005       0.002       0.011\n",
      "CH4            0.0001      0.001      0.240      0.810      -0.001       0.001\n",
      "N2O           -0.0165      0.009     -1.930      0.055      -0.033       0.000\n",
      "CFC.11        -0.0066      0.002     -4.078      0.000      -0.010      -0.003\n",
      "CFC.12         0.0038      0.001      3.757      0.000       0.002       0.006\n",
      "TSI            0.0931      0.015      6.313      0.000       0.064       0.122\n",
      "Aerosols      -1.5376      0.213     -7.210      0.000      -1.957      -1.118\n",
      "==============================================================================\n",
      "Omnibus:                        8.740   Durbin-Watson:                   0.956\n",
      "Prob(Omnibus):                  0.013   Jarque-Bera (JB):               10.327\n",
      "Skew:                           0.289   Prob(JB):                      0.00572\n",
      "Kurtosis:                       3.733   Cond. No.                     8.53e+06\n",
      "==============================================================================\n",
      "\n",
      "Notes:\n",
      "[1] Standard Errors assume that the covariance matrix of the errors is correctly specified.\n",
      "[2] The condition number is large, 8.53e+06. This might indicate that there are\n",
      "strong multicollinearity or other numerical problems.\n"
     ]
    }
   ],
   "source": [
    "y = climate_train['Temp']\n",
    "x = sm.add_constant(climate_train[['MEI', 'CO2', 'CH4', 'N2O',\n",
    "                                   'CFC.11', 'CFC.12', 'TSI', 'Aerosols']])\n",
    "climate_reg1 = sm.OLS(y, x).fit()\n",
    "print(climate_reg1.summary())"
   ]
  },
  {
   "cell_type": "code",
   "execution_count": 5,
   "id": "137a5242",
   "metadata": {},
   "outputs": [
    {
     "data": {
      "text/plain": [
       "0.7508932770523421"
      ]
     },
     "execution_count": 5,
     "metadata": {},
     "output_type": "execute_result"
    }
   ],
   "source": [
    "# R^2\n",
    "climate_reg1.rsquared"
   ]
  },
  {
   "cell_type": "code",
   "execution_count": 6,
   "id": "ac0e73d5",
   "metadata": {},
   "outputs": [
    {
     "data": {
      "text/plain": [
       "const      -124.594260\n",
       "MEI           0.064205\n",
       "CO2           0.006457\n",
       "CFC.11       -0.006630\n",
       "CFC.12        0.003808\n",
       "TSI           0.093141\n",
       "Aerosols     -1.537613\n",
       "dtype: float64"
      ]
     },
     "execution_count": 6,
     "metadata": {},
     "output_type": "execute_result"
    }
   ],
   "source": [
    "# Significant independent variables (with p < 0.05)\n",
    "# Note: `const` is not an independent variable\n",
    "climate_reg1.params[climate_reg1.pvalues < 0.05]"
   ]
  },
  {
   "cell_type": "markdown",
   "id": "61df5741",
   "metadata": {},
   "source": [
    "The coefficients of `N2O` and `CFC.11` are negative probably because they are correlated with other variables within or beyond the model."
   ]
  },
  {
   "cell_type": "markdown",
   "id": "f1c4a872",
   "metadata": {},
   "source": [
    "## Correlation"
   ]
  },
  {
   "cell_type": "code",
   "execution_count": 7,
   "id": "d5b1c4ff",
   "metadata": {},
   "outputs": [
    {
     "data": {
      "text/html": [
       "<div>\n",
       "<style scoped>\n",
       "    .dataframe tbody tr th:only-of-type {\n",
       "        vertical-align: middle;\n",
       "    }\n",
       "\n",
       "    .dataframe tbody tr th {\n",
       "        vertical-align: top;\n",
       "    }\n",
       "\n",
       "    .dataframe thead th {\n",
       "        text-align: right;\n",
       "    }\n",
       "</style>\n",
       "<table border=\"1\" class=\"dataframe\">\n",
       "  <thead>\n",
       "    <tr style=\"text-align: right;\">\n",
       "      <th></th>\n",
       "      <th>Year</th>\n",
       "      <th>Month</th>\n",
       "      <th>MEI</th>\n",
       "      <th>CO2</th>\n",
       "      <th>CH4</th>\n",
       "      <th>N2O</th>\n",
       "      <th>CFC.11</th>\n",
       "      <th>CFC.12</th>\n",
       "      <th>TSI</th>\n",
       "      <th>Aerosols</th>\n",
       "      <th>Temp</th>\n",
       "    </tr>\n",
       "  </thead>\n",
       "  <tbody>\n",
       "    <tr>\n",
       "      <th>Year</th>\n",
       "      <td>1.000000</td>\n",
       "      <td>-0.027942</td>\n",
       "      <td>-0.036988</td>\n",
       "      <td>0.982749</td>\n",
       "      <td>0.915659</td>\n",
       "      <td>0.993845</td>\n",
       "      <td>0.569106</td>\n",
       "      <td>0.897012</td>\n",
       "      <td>0.170302</td>\n",
       "      <td>-0.345247</td>\n",
       "      <td>0.786797</td>\n",
       "    </tr>\n",
       "    <tr>\n",
       "      <th>Month</th>\n",
       "      <td>-0.027942</td>\n",
       "      <td>1.000000</td>\n",
       "      <td>0.000885</td>\n",
       "      <td>-0.106732</td>\n",
       "      <td>0.018569</td>\n",
       "      <td>0.013632</td>\n",
       "      <td>-0.013111</td>\n",
       "      <td>0.000675</td>\n",
       "      <td>-0.034606</td>\n",
       "      <td>0.014890</td>\n",
       "      <td>-0.099857</td>\n",
       "    </tr>\n",
       "    <tr>\n",
       "      <th>MEI</th>\n",
       "      <td>-0.036988</td>\n",
       "      <td>0.000885</td>\n",
       "      <td>1.000000</td>\n",
       "      <td>-0.041147</td>\n",
       "      <td>-0.033419</td>\n",
       "      <td>-0.050820</td>\n",
       "      <td>0.069000</td>\n",
       "      <td>0.008286</td>\n",
       "      <td>-0.154492</td>\n",
       "      <td>0.340238</td>\n",
       "      <td>0.172471</td>\n",
       "    </tr>\n",
       "    <tr>\n",
       "      <th>CO2</th>\n",
       "      <td>0.982749</td>\n",
       "      <td>-0.106732</td>\n",
       "      <td>-0.041147</td>\n",
       "      <td>1.000000</td>\n",
       "      <td>0.877280</td>\n",
       "      <td>0.976720</td>\n",
       "      <td>0.514060</td>\n",
       "      <td>0.852690</td>\n",
       "      <td>0.177429</td>\n",
       "      <td>-0.356155</td>\n",
       "      <td>0.788529</td>\n",
       "    </tr>\n",
       "    <tr>\n",
       "      <th>CH4</th>\n",
       "      <td>0.915659</td>\n",
       "      <td>0.018569</td>\n",
       "      <td>-0.033419</td>\n",
       "      <td>0.877280</td>\n",
       "      <td>1.000000</td>\n",
       "      <td>0.899839</td>\n",
       "      <td>0.779904</td>\n",
       "      <td>0.963616</td>\n",
       "      <td>0.245528</td>\n",
       "      <td>-0.267809</td>\n",
       "      <td>0.703255</td>\n",
       "    </tr>\n",
       "    <tr>\n",
       "      <th>N2O</th>\n",
       "      <td>0.993845</td>\n",
       "      <td>0.013632</td>\n",
       "      <td>-0.050820</td>\n",
       "      <td>0.976720</td>\n",
       "      <td>0.899839</td>\n",
       "      <td>1.000000</td>\n",
       "      <td>0.522477</td>\n",
       "      <td>0.867931</td>\n",
       "      <td>0.199757</td>\n",
       "      <td>-0.337055</td>\n",
       "      <td>0.778639</td>\n",
       "    </tr>\n",
       "    <tr>\n",
       "      <th>CFC.11</th>\n",
       "      <td>0.569106</td>\n",
       "      <td>-0.013111</td>\n",
       "      <td>0.069000</td>\n",
       "      <td>0.514060</td>\n",
       "      <td>0.779904</td>\n",
       "      <td>0.522477</td>\n",
       "      <td>1.000000</td>\n",
       "      <td>0.868985</td>\n",
       "      <td>0.272046</td>\n",
       "      <td>-0.043921</td>\n",
       "      <td>0.407710</td>\n",
       "    </tr>\n",
       "    <tr>\n",
       "      <th>CFC.12</th>\n",
       "      <td>0.897012</td>\n",
       "      <td>0.000675</td>\n",
       "      <td>0.008286</td>\n",
       "      <td>0.852690</td>\n",
       "      <td>0.963616</td>\n",
       "      <td>0.867931</td>\n",
       "      <td>0.868985</td>\n",
       "      <td>1.000000</td>\n",
       "      <td>0.255303</td>\n",
       "      <td>-0.225131</td>\n",
       "      <td>0.687558</td>\n",
       "    </tr>\n",
       "    <tr>\n",
       "      <th>TSI</th>\n",
       "      <td>0.170302</td>\n",
       "      <td>-0.034606</td>\n",
       "      <td>-0.154492</td>\n",
       "      <td>0.177429</td>\n",
       "      <td>0.245528</td>\n",
       "      <td>0.199757</td>\n",
       "      <td>0.272046</td>\n",
       "      <td>0.255303</td>\n",
       "      <td>1.000000</td>\n",
       "      <td>0.052117</td>\n",
       "      <td>0.243383</td>\n",
       "    </tr>\n",
       "    <tr>\n",
       "      <th>Aerosols</th>\n",
       "      <td>-0.345247</td>\n",
       "      <td>0.014890</td>\n",
       "      <td>0.340238</td>\n",
       "      <td>-0.356155</td>\n",
       "      <td>-0.267809</td>\n",
       "      <td>-0.337055</td>\n",
       "      <td>-0.043921</td>\n",
       "      <td>-0.225131</td>\n",
       "      <td>0.052117</td>\n",
       "      <td>1.000000</td>\n",
       "      <td>-0.384914</td>\n",
       "    </tr>\n",
       "    <tr>\n",
       "      <th>Temp</th>\n",
       "      <td>0.786797</td>\n",
       "      <td>-0.099857</td>\n",
       "      <td>0.172471</td>\n",
       "      <td>0.788529</td>\n",
       "      <td>0.703255</td>\n",
       "      <td>0.778639</td>\n",
       "      <td>0.407710</td>\n",
       "      <td>0.687558</td>\n",
       "      <td>0.243383</td>\n",
       "      <td>-0.384914</td>\n",
       "      <td>1.000000</td>\n",
       "    </tr>\n",
       "  </tbody>\n",
       "</table>\n",
       "</div>"
      ],
      "text/plain": [
       "              Year     Month       MEI       CO2       CH4       N2O  \\\n",
       "Year      1.000000 -0.027942 -0.036988  0.982749  0.915659  0.993845   \n",
       "Month    -0.027942  1.000000  0.000885 -0.106732  0.018569  0.013632   \n",
       "MEI      -0.036988  0.000885  1.000000 -0.041147 -0.033419 -0.050820   \n",
       "CO2       0.982749 -0.106732 -0.041147  1.000000  0.877280  0.976720   \n",
       "CH4       0.915659  0.018569 -0.033419  0.877280  1.000000  0.899839   \n",
       "N2O       0.993845  0.013632 -0.050820  0.976720  0.899839  1.000000   \n",
       "CFC.11    0.569106 -0.013111  0.069000  0.514060  0.779904  0.522477   \n",
       "CFC.12    0.897012  0.000675  0.008286  0.852690  0.963616  0.867931   \n",
       "TSI       0.170302 -0.034606 -0.154492  0.177429  0.245528  0.199757   \n",
       "Aerosols -0.345247  0.014890  0.340238 -0.356155 -0.267809 -0.337055   \n",
       "Temp      0.786797 -0.099857  0.172471  0.788529  0.703255  0.778639   \n",
       "\n",
       "            CFC.11    CFC.12       TSI  Aerosols      Temp  \n",
       "Year      0.569106  0.897012  0.170302 -0.345247  0.786797  \n",
       "Month    -0.013111  0.000675 -0.034606  0.014890 -0.099857  \n",
       "MEI       0.069000  0.008286 -0.154492  0.340238  0.172471  \n",
       "CO2       0.514060  0.852690  0.177429 -0.356155  0.788529  \n",
       "CH4       0.779904  0.963616  0.245528 -0.267809  0.703255  \n",
       "N2O       0.522477  0.867931  0.199757 -0.337055  0.778639  \n",
       "CFC.11    1.000000  0.868985  0.272046 -0.043921  0.407710  \n",
       "CFC.12    0.868985  1.000000  0.255303 -0.225131  0.687558  \n",
       "TSI       0.272046  0.255303  1.000000  0.052117  0.243383  \n",
       "Aerosols -0.043921 -0.225131  0.052117  1.000000 -0.384914  \n",
       "Temp      0.407710  0.687558  0.243383 -0.384914  1.000000  "
      ]
     },
     "execution_count": 7,
     "metadata": {},
     "output_type": "execute_result"
    }
   ],
   "source": [
    "climate_train.corr()"
   ]
  },
  {
   "cell_type": "code",
   "execution_count": 8,
   "id": "037d86d3",
   "metadata": {},
   "outputs": [
    {
     "data": {
      "text/plain": [
       "Year      0.993845\n",
       "CO2       0.976720\n",
       "CH4       0.899839\n",
       "N2O       1.000000\n",
       "CFC.12    0.867931\n",
       "Temp      0.778639\n",
       "Name: N2O, dtype: float64"
      ]
     },
     "execution_count": 8,
     "metadata": {},
     "output_type": "execute_result"
    }
   ],
   "source": [
    "# `N2O` is highly correlated with\n",
    "climate_train.corr()['N2O'][climate_train.corr()['N2O'] > 0.7]\n",
    "# Note: `Temp` is the dependent variable"
   ]
  },
  {
   "cell_type": "code",
   "execution_count": 9,
   "id": "233dc430",
   "metadata": {},
   "outputs": [
    {
     "data": {
      "text/plain": [
       "CH4       0.779904\n",
       "CFC.11    1.000000\n",
       "CFC.12    0.868985\n",
       "Name: CFC.11, dtype: float64"
      ]
     },
     "execution_count": 9,
     "metadata": {},
     "output_type": "execute_result"
    }
   ],
   "source": [
    "# `CFC.11` is highly correlated with\n",
    "climate_train.corr()['CFC.11'][climate_train.corr()['CFC.11'] > 0.7]"
   ]
  },
  {
   "cell_type": "markdown",
   "id": "37449099",
   "metadata": {},
   "source": [
    "## Simplify the Model"
   ]
  },
  {
   "cell_type": "code",
   "execution_count": 10,
   "id": "e070e2a6",
   "metadata": {},
   "outputs": [
    {
     "name": "stdout",
     "output_type": "stream",
     "text": [
      "                            OLS Regression Results                            \n",
      "==============================================================================\n",
      "Dep. Variable:                   Temp   R-squared:                       0.726\n",
      "Model:                            OLS   Adj. R-squared:                  0.722\n",
      "Method:                 Least Squares   F-statistic:                     184.9\n",
      "Date:                Wed, 12 Apr 2023   Prob (F-statistic):           3.52e-77\n",
      "Time:                        22:21:49   Log-Likelihood:                 266.64\n",
      "No. Observations:                 284   AIC:                            -523.3\n",
      "Df Residuals:                     279   BIC:                            -505.0\n",
      "Df Model:                           4                                         \n",
      "Covariance Type:            nonrobust                                         \n",
      "==============================================================================\n",
      "                 coef    std err          t      P>|t|      [0.025      0.975]\n",
      "------------------------------------------------------------------------------\n",
      "const       -116.2269     20.223     -5.747      0.000    -156.036     -76.418\n",
      "MEI            0.0642      0.007      9.649      0.000       0.051       0.077\n",
      "TSI            0.0795      0.015      5.344      0.000       0.050       0.109\n",
      "Aerosols      -1.7017      0.218     -7.806      0.000      -2.131      -1.273\n",
      "N2O            0.0253      0.001     19.307      0.000       0.023       0.028\n",
      "==============================================================================\n",
      "Omnibus:                       10.908   Durbin-Watson:                   0.842\n",
      "Prob(Omnibus):                  0.004   Jarque-Bera (JB):               15.097\n",
      "Skew:                           0.289   Prob(JB):                     0.000527\n",
      "Kurtosis:                       3.971   Cond. No.                     5.00e+06\n",
      "==============================================================================\n",
      "\n",
      "Notes:\n",
      "[1] Standard Errors assume that the covariance matrix of the errors is correctly specified.\n",
      "[2] The condition number is large,  5e+06. This might indicate that there are\n",
      "strong multicollinearity or other numerical problems.\n"
     ]
    }
   ],
   "source": [
    "y = climate_train['Temp']\n",
    "x = sm.add_constant(climate_train[['MEI', 'TSI', 'Aerosols', 'N2O']])\n",
    "climate_reg2 = sm.OLS(y, x).fit()\n",
    "print(climate_reg2.summary())"
   ]
  },
  {
   "cell_type": "code",
   "execution_count": 11,
   "id": "c45a947b",
   "metadata": {},
   "outputs": [
    {
     "data": {
      "text/plain": [
       "Previous N2O     -0.016528\n",
       "Simplified N2O    0.025320\n",
       "dtype: float64"
      ]
     },
     "execution_count": 11,
     "metadata": {},
     "output_type": "execute_result"
    }
   ],
   "source": [
    "# The sign of `N2O` flips.\n",
    "pd.Series([climate_reg1.params['N2O'], climate_reg2.params['N2O']],\n",
    "          index=['Previous N2O', 'Simplified N2O'])"
   ]
  },
  {
   "cell_type": "code",
   "execution_count": 12,
   "id": "0a547c57",
   "metadata": {},
   "outputs": [
    {
     "data": {
      "text/plain": [
       "const      -116.226858\n",
       "MEI           0.064186\n",
       "TSI           0.079490\n",
       "Aerosols     -1.701737\n",
       "N2O           0.025320\n",
       "dtype: float64"
      ]
     },
     "execution_count": 12,
     "metadata": {},
     "output_type": "execute_result"
    }
   ],
   "source": [
    "# Significant independent variables (with p < 0.05)\n",
    "# Note: `const` is not an independent variable\n",
    "climate_reg2.params[climate_reg2.pvalues < 0.05]"
   ]
  },
  {
   "cell_type": "markdown",
   "id": "7f49c8ff",
   "metadata": {},
   "source": [
    "A higher proportion of independent variables is significant at 5% (4 out of 4 vs. 6 out of 8)."
   ]
  },
  {
   "cell_type": "markdown",
   "id": "20f0ef50",
   "metadata": {},
   "source": [
    "## Out-of-sample $R^2$"
   ]
  },
  {
   "cell_type": "code",
   "execution_count": 13,
   "id": "5c9f4eae",
   "metadata": {},
   "outputs": [
    {
     "data": {
      "text/plain": [
       "0.4967794872203861"
      ]
     },
     "execution_count": 13,
     "metadata": {},
     "output_type": "execute_result"
    }
   ],
   "source": [
    "climate_test_x = sm.add_constant(\n",
    "    climate_test[['MEI', 'TSI', 'Aerosols', 'N2O']])\n",
    "climate_predict = climate_reg2.predict(climate_test_x)\n",
    "\n",
    "SSE = sum((climate_test['Temp'] - climate_predict) ** 2)\n",
    "SST = sum((climate_test['Temp'] - climate_train['Temp'].mean()) ** 2)\n",
    "1 - SSE/SST"
   ]
  }
 ],
 "metadata": {
  "kernelspec": {
   "display_name": "Python 3 (ipykernel)",
   "language": "python",
   "name": "python3"
  },
  "language_info": {
   "codemirror_mode": {
    "name": "ipython",
    "version": 3
   },
   "file_extension": ".py",
   "mimetype": "text/x-python",
   "name": "python",
   "nbconvert_exporter": "python",
   "pygments_lexer": "ipython3",
   "version": "3.9.12"
  }
 },
 "nbformat": 4,
 "nbformat_minor": 5
}
